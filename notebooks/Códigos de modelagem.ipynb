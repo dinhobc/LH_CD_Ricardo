{
 "cells": [
  {
   "cell_type": "markdown",
   "id": "c8f125c3-92b1-45fd-8158-d9671eef14bf",
   "metadata": {},
   "source": [
    "#### 3. Explique como você faria a previsão do preço a partir dos dados. Quais\n",
    "#### variáveis e/ou suas transformações você utilizou e por quê? Qual tipo de\n",
    "#### problema estamos resolvendo (regressão, classicação)? Qual modelo\n",
    "#### melhor se aproxima dos dados e quais seus prós e contras? Qual medida de\n",
    "#### performance do modelo foi escolhida e por quê?\n"
   ]
  },
  {
   "cell_type": "markdown",
   "id": "3d59ecd6-25b7-466d-a6f4-546d73f25035",
   "metadata": {},
   "source": [
    "### R= Para prever o preço de um imóvel com base nos dados, fiz uma abordagem estruturada de ciência de dados.\n",
    "- Variaveis Utlizadas: latitude, longitude, room_type, numero_de_reviews, disponibilidade_365, calculado_host_listings_count\n",
    "- Transformações Aplicadas: ( dropna()), room_type( OneHotEncoder), room_type( OneHotEncoder), ( StandardScaler), ( train_test_split).\n",
    "### Motivos das Variáveis:\n",
    "##### latitudeelongitude\n",
    "\n",
    "- A localização é um dos principais fatores que influenciam o preço.\n",
    "- Áreas centrais e turísticas geralmente têm preços mais altos.\n",
    " \n",
    "##### room_type\n",
    "\n",
    "- Convertido com One-Hot Encoding , pois é uma variável categórica.\n",
    "- Quartos privados e inteiros tendem a ter preços mais altos do que quartos compartilhados.\n",
    "\n",
    "##### numero_de_reviews\n",
    "\n",
    "- Pode indicar popularidade do imóvel.\n",
    "- Imóveis bem avaliados e com mais avaliações podem incluir preços mais altos.\n",
    "\n",
    "##### disponibilidade_365\n",
    "\n",
    "-Indica se o imóvel está disponível para locação o ano todo.\n",
    "-Proprietários com alta disponibilidade podem ajustar preços conforme a demanda.\n",
    "\n",
    "##### calculado_host_listings_count\n",
    "\n",
    "-Pode indicar se o anfitrião é profissional ou amador.\n",
    "-Hosts com muitos imóveis podem ajustar preços estrategicamente.\n",
    "\n",
    "### Tipo de Problema: Regressão pois queremos prever um valor contínuo ( preço ).\n",
    "### O MELHOR MODELO É: XGBoost\n",
    "- PRÓS: Melhor desempenho, lida bem com dados tabulares\n",
    "- CONTRAS: Mais difícil de curar\n",
    "\n",
    "### Para avaliar o modelo, utilizamos duas métricas principais:\n",
    "\n",
    "- MAE (Erro Médio Absoluto)\n",
    "- RMSE (Raiz do Erro Quadrático Médio)\n",
    "  \n",
    "### Porque escolhi ela: \n",
    "- MAE fornece um erro médio fácil de interpretar.\n",
    "- RMSE nos alerta sobre previsões muito erradas.\n",
    "##### Juntas, elas ajudam a equilibrar precisão e robustez no modelo"
   ]
  },
  {
   "cell_type": "code",
   "execution_count": 1,
   "id": "18bb0395-e926-4da2-aab3-1cae0df85004",
   "metadata": {},
   "outputs": [
    {
     "name": "stdout",
     "output_type": "stream",
     "text": [
      "MAE: 63.68\n",
      "RMSE: 210.97\n"
     ]
    }
   ],
   "source": [
    "import pandas as pd\n",
    "import numpy as np\n",
    "from sklearn.model_selection import train_test_split\n",
    "from sklearn.preprocessing import OneHotEncoder, StandardScaler\n",
    "from xgboost import XGBRegressor\n",
    "from sklearn.metrics import mean_absolute_error, mean_squared_error\n",
    "\n",
    "df = pd.read_csv(r\"C:\\Users\\USER\\Documents\\teste_indicium_precificacao.csv\")\n",
    "\n",
    "features = [\"latitude\", \"longitude\", \"room_type\", \"numero_de_reviews\", \"disponibilidade_365\", \"calculado_host_listings_count\"]\n",
    "\n",
    "df = df[features + [\"price\"]].dropna()  \n",
    "\n",
    "ohe = OneHotEncoder(sparse_output=False, drop=\"first\")\n",
    "encoded_room_type = ohe.fit_transform(df[[\"room_type\"]])\n",
    "ohe_features = ohe.get_feature_names_out([\"room_type\"])\n",
    "df_encoded = pd.DataFrame(encoded_room_type, columns=ohe_features)\n",
    "\n",
    "df = df.drop(columns=[\"room_type\"]).reset_index(drop=True)\n",
    "df = pd.concat([df, df_encoded], axis=1)\n",
    "\n",
    "X = df.drop(columns=[\"price\"])\n",
    "y = df[\"price\"]\n",
    "X_train, X_test, y_train, y_test = train_test_split(X, y, test_size=0.2, random_state=42)\n",
    "\n",
    "scaler = StandardScaler()\n",
    "X_train = scaler.fit_transform(X_train)\n",
    "X_test = scaler.transform(X_test)\n",
    "\n",
    "model = XGBRegressor(n_estimators=100, learning_rate=0.1, random_state=42)\n",
    "model.fit(X_train, y_train)\n",
    "\n",
    "y_pred = model.predict(X_test)\n",
    "\n",
    "mae = mean_absolute_error(y_test, y_pred)\n",
    "rmse = np.sqrt(mean_squared_error(y_test, y_pred))\n",
    "\n",
    "print(f\"MAE: {mae:.2f}\")\n",
    "print(f\"RMSE: {rmse:.2f}\")\n"
   ]
  },
  {
   "cell_type": "code",
   "execution_count": null,
   "id": "59c157ee-5530-4ee6-9a66-9753d0c6caa8",
   "metadata": {},
   "outputs": [],
   "source": []
  }
 ],
 "metadata": {
  "kernelspec": {
   "display_name": "Python 3 (ipykernel)",
   "language": "python",
   "name": "python3"
  },
  "language_info": {
   "codemirror_mode": {
    "name": "ipython",
    "version": 3
   },
   "file_extension": ".py",
   "mimetype": "text/x-python",
   "name": "python",
   "nbconvert_exporter": "python",
   "pygments_lexer": "ipython3",
   "version": "3.13.1"
  }
 },
 "nbformat": 4,
 "nbformat_minor": 5
}
